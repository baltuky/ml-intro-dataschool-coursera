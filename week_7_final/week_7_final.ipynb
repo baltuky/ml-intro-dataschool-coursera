{
 "cells": [
  {
   "cell_type": "markdown",
   "metadata": {},
   "source": [
    "### Финальное задание\n",
    "##### Предметная область: Игра Dota 2"
   ]
  },
  {
   "cell_type": "code",
   "execution_count": 1,
   "metadata": {},
   "outputs": [],
   "source": [
    "import time\n",
    "import datetime\n",
    "import pandas as pd\n",
    "import numpy as np\n",
    "from sklearn.model_selection import KFold, cross_val_score\n",
    "from sklearn.ensemble import GradientBoostingClassifier\n",
    "from sklearn.linear_model import LogisticRegression\n",
    "from sklearn.preprocessing import StandardScaler\n",
    "import matplotlib.pyplot as pyplot\n",
    "\n",
    "import warnings\n",
    "warnings.filterwarnings(\"ignore\")\n",
    "\n",
    "pd.set_option('display.max_columns', None)"
   ]
  },
  {
   "cell_type": "code",
   "execution_count": 97,
   "metadata": {},
   "outputs": [
    {
     "data": {
      "text/html": [
       "<div>\n",
       "<style scoped>\n",
       "    .dataframe tbody tr th:only-of-type {\n",
       "        vertical-align: middle;\n",
       "    }\n",
       "\n",
       "    .dataframe tbody tr th {\n",
       "        vertical-align: top;\n",
       "    }\n",
       "\n",
       "    .dataframe thead th {\n",
       "        text-align: right;\n",
       "    }\n",
       "</style>\n",
       "<table border=\"1\" class=\"dataframe\">\n",
       "  <thead>\n",
       "    <tr style=\"text-align: right;\">\n",
       "      <th></th>\n",
       "      <th>start_time</th>\n",
       "      <th>lobby_type</th>\n",
       "      <th>r1_hero</th>\n",
       "      <th>r1_level</th>\n",
       "      <th>r1_xp</th>\n",
       "      <th>r1_gold</th>\n",
       "      <th>r1_lh</th>\n",
       "      <th>r1_kills</th>\n",
       "      <th>r1_deaths</th>\n",
       "      <th>r1_items</th>\n",
       "      <th>r2_hero</th>\n",
       "      <th>r2_level</th>\n",
       "      <th>r2_xp</th>\n",
       "      <th>r2_gold</th>\n",
       "      <th>r2_lh</th>\n",
       "      <th>r2_kills</th>\n",
       "      <th>r2_deaths</th>\n",
       "      <th>r2_items</th>\n",
       "      <th>r3_hero</th>\n",
       "      <th>r3_level</th>\n",
       "      <th>r3_xp</th>\n",
       "      <th>r3_gold</th>\n",
       "      <th>r3_lh</th>\n",
       "      <th>r3_kills</th>\n",
       "      <th>r3_deaths</th>\n",
       "      <th>r3_items</th>\n",
       "      <th>r4_hero</th>\n",
       "      <th>r4_level</th>\n",
       "      <th>r4_xp</th>\n",
       "      <th>r4_gold</th>\n",
       "      <th>r4_lh</th>\n",
       "      <th>r4_kills</th>\n",
       "      <th>r4_deaths</th>\n",
       "      <th>r4_items</th>\n",
       "      <th>r5_hero</th>\n",
       "      <th>r5_level</th>\n",
       "      <th>r5_xp</th>\n",
       "      <th>r5_gold</th>\n",
       "      <th>r5_lh</th>\n",
       "      <th>r5_kills</th>\n",
       "      <th>r5_deaths</th>\n",
       "      <th>r5_items</th>\n",
       "      <th>d1_hero</th>\n",
       "      <th>d1_level</th>\n",
       "      <th>d1_xp</th>\n",
       "      <th>d1_gold</th>\n",
       "      <th>d1_lh</th>\n",
       "      <th>d1_kills</th>\n",
       "      <th>d1_deaths</th>\n",
       "      <th>d1_items</th>\n",
       "      <th>d2_hero</th>\n",
       "      <th>d2_level</th>\n",
       "      <th>d2_xp</th>\n",
       "      <th>d2_gold</th>\n",
       "      <th>d2_lh</th>\n",
       "      <th>d2_kills</th>\n",
       "      <th>d2_deaths</th>\n",
       "      <th>d2_items</th>\n",
       "      <th>d3_hero</th>\n",
       "      <th>d3_level</th>\n",
       "      <th>d3_xp</th>\n",
       "      <th>d3_gold</th>\n",
       "      <th>d3_lh</th>\n",
       "      <th>d3_kills</th>\n",
       "      <th>d3_deaths</th>\n",
       "      <th>d3_items</th>\n",
       "      <th>d4_hero</th>\n",
       "      <th>d4_level</th>\n",
       "      <th>d4_xp</th>\n",
       "      <th>d4_gold</th>\n",
       "      <th>d4_lh</th>\n",
       "      <th>d4_kills</th>\n",
       "      <th>d4_deaths</th>\n",
       "      <th>d4_items</th>\n",
       "      <th>d5_hero</th>\n",
       "      <th>d5_level</th>\n",
       "      <th>d5_xp</th>\n",
       "      <th>d5_gold</th>\n",
       "      <th>d5_lh</th>\n",
       "      <th>d5_kills</th>\n",
       "      <th>d5_deaths</th>\n",
       "      <th>d5_items</th>\n",
       "      <th>first_blood_time</th>\n",
       "      <th>first_blood_team</th>\n",
       "      <th>first_blood_player1</th>\n",
       "      <th>first_blood_player2</th>\n",
       "      <th>radiant_bottle_time</th>\n",
       "      <th>radiant_courier_time</th>\n",
       "      <th>radiant_flying_courier_time</th>\n",
       "      <th>radiant_tpscroll_count</th>\n",
       "      <th>radiant_boots_count</th>\n",
       "      <th>radiant_ward_observer_count</th>\n",
       "      <th>radiant_ward_sentry_count</th>\n",
       "      <th>radiant_first_ward_time</th>\n",
       "      <th>dire_bottle_time</th>\n",
       "      <th>dire_courier_time</th>\n",
       "      <th>dire_flying_courier_time</th>\n",
       "      <th>dire_tpscroll_count</th>\n",
       "      <th>dire_boots_count</th>\n",
       "      <th>dire_ward_observer_count</th>\n",
       "      <th>dire_ward_sentry_count</th>\n",
       "      <th>dire_first_ward_time</th>\n",
       "      <th>duration</th>\n",
       "      <th>radiant_win</th>\n",
       "      <th>tower_status_radiant</th>\n",
       "      <th>tower_status_dire</th>\n",
       "      <th>barracks_status_radiant</th>\n",
       "      <th>barracks_status_dire</th>\n",
       "    </tr>\n",
       "    <tr>\n",
       "      <th>match_id</th>\n",
       "      <th></th>\n",
       "      <th></th>\n",
       "      <th></th>\n",
       "      <th></th>\n",
       "      <th></th>\n",
       "      <th></th>\n",
       "      <th></th>\n",
       "      <th></th>\n",
       "      <th></th>\n",
       "      <th></th>\n",
       "      <th></th>\n",
       "      <th></th>\n",
       "      <th></th>\n",
       "      <th></th>\n",
       "      <th></th>\n",
       "      <th></th>\n",
       "      <th></th>\n",
       "      <th></th>\n",
       "      <th></th>\n",
       "      <th></th>\n",
       "      <th></th>\n",
       "      <th></th>\n",
       "      <th></th>\n",
       "      <th></th>\n",
       "      <th></th>\n",
       "      <th></th>\n",
       "      <th></th>\n",
       "      <th></th>\n",
       "      <th></th>\n",
       "      <th></th>\n",
       "      <th></th>\n",
       "      <th></th>\n",
       "      <th></th>\n",
       "      <th></th>\n",
       "      <th></th>\n",
       "      <th></th>\n",
       "      <th></th>\n",
       "      <th></th>\n",
       "      <th></th>\n",
       "      <th></th>\n",
       "      <th></th>\n",
       "      <th></th>\n",
       "      <th></th>\n",
       "      <th></th>\n",
       "      <th></th>\n",
       "      <th></th>\n",
       "      <th></th>\n",
       "      <th></th>\n",
       "      <th></th>\n",
       "      <th></th>\n",
       "      <th></th>\n",
       "      <th></th>\n",
       "      <th></th>\n",
       "      <th></th>\n",
       "      <th></th>\n",
       "      <th></th>\n",
       "      <th></th>\n",
       "      <th></th>\n",
       "      <th></th>\n",
       "      <th></th>\n",
       "      <th></th>\n",
       "      <th></th>\n",
       "      <th></th>\n",
       "      <th></th>\n",
       "      <th></th>\n",
       "      <th></th>\n",
       "      <th></th>\n",
       "      <th></th>\n",
       "      <th></th>\n",
       "      <th></th>\n",
       "      <th></th>\n",
       "      <th></th>\n",
       "      <th></th>\n",
       "      <th></th>\n",
       "      <th></th>\n",
       "      <th></th>\n",
       "      <th></th>\n",
       "      <th></th>\n",
       "      <th></th>\n",
       "      <th></th>\n",
       "      <th></th>\n",
       "      <th></th>\n",
       "      <th></th>\n",
       "      <th></th>\n",
       "      <th></th>\n",
       "      <th></th>\n",
       "      <th></th>\n",
       "      <th></th>\n",
       "      <th></th>\n",
       "      <th></th>\n",
       "      <th></th>\n",
       "      <th></th>\n",
       "      <th></th>\n",
       "      <th></th>\n",
       "      <th></th>\n",
       "      <th></th>\n",
       "      <th></th>\n",
       "      <th></th>\n",
       "      <th></th>\n",
       "      <th></th>\n",
       "      <th></th>\n",
       "      <th></th>\n",
       "      <th></th>\n",
       "      <th></th>\n",
       "      <th></th>\n",
       "      <th></th>\n",
       "      <th></th>\n",
       "      <th></th>\n",
       "    </tr>\n",
       "  </thead>\n",
       "  <tbody>\n",
       "    <tr>\n",
       "      <th>0</th>\n",
       "      <td>1430198770</td>\n",
       "      <td>7</td>\n",
       "      <td>11</td>\n",
       "      <td>5</td>\n",
       "      <td>2098</td>\n",
       "      <td>1489</td>\n",
       "      <td>20</td>\n",
       "      <td>0</td>\n",
       "      <td>0</td>\n",
       "      <td>7</td>\n",
       "      <td>67</td>\n",
       "      <td>3</td>\n",
       "      <td>842</td>\n",
       "      <td>991</td>\n",
       "      <td>10</td>\n",
       "      <td>0</td>\n",
       "      <td>0</td>\n",
       "      <td>4</td>\n",
       "      <td>29</td>\n",
       "      <td>5</td>\n",
       "      <td>1909</td>\n",
       "      <td>1143</td>\n",
       "      <td>10</td>\n",
       "      <td>0</td>\n",
       "      <td>0</td>\n",
       "      <td>8</td>\n",
       "      <td>20</td>\n",
       "      <td>3</td>\n",
       "      <td>757</td>\n",
       "      <td>741</td>\n",
       "      <td>6</td>\n",
       "      <td>0</td>\n",
       "      <td>0</td>\n",
       "      <td>7</td>\n",
       "      <td>105</td>\n",
       "      <td>3</td>\n",
       "      <td>732</td>\n",
       "      <td>658</td>\n",
       "      <td>4</td>\n",
       "      <td>0</td>\n",
       "      <td>1</td>\n",
       "      <td>11</td>\n",
       "      <td>4</td>\n",
       "      <td>3</td>\n",
       "      <td>1058</td>\n",
       "      <td>996</td>\n",
       "      <td>12</td>\n",
       "      <td>0</td>\n",
       "      <td>0</td>\n",
       "      <td>6</td>\n",
       "      <td>42</td>\n",
       "      <td>4</td>\n",
       "      <td>1085</td>\n",
       "      <td>986</td>\n",
       "      <td>12</td>\n",
       "      <td>0</td>\n",
       "      <td>0</td>\n",
       "      <td>4</td>\n",
       "      <td>21</td>\n",
       "      <td>5</td>\n",
       "      <td>2052</td>\n",
       "      <td>1536</td>\n",
       "      <td>23</td>\n",
       "      <td>0</td>\n",
       "      <td>0</td>\n",
       "      <td>6</td>\n",
       "      <td>37</td>\n",
       "      <td>3</td>\n",
       "      <td>742</td>\n",
       "      <td>500</td>\n",
       "      <td>2</td>\n",
       "      <td>0</td>\n",
       "      <td>0</td>\n",
       "      <td>8</td>\n",
       "      <td>84</td>\n",
       "      <td>3</td>\n",
       "      <td>958</td>\n",
       "      <td>1003</td>\n",
       "      <td>3</td>\n",
       "      <td>1</td>\n",
       "      <td>0</td>\n",
       "      <td>9</td>\n",
       "      <td>7.0</td>\n",
       "      <td>1.0</td>\n",
       "      <td>9.0</td>\n",
       "      <td>NaN</td>\n",
       "      <td>134.0</td>\n",
       "      <td>-80.0</td>\n",
       "      <td>244.0</td>\n",
       "      <td>2</td>\n",
       "      <td>2</td>\n",
       "      <td>2</td>\n",
       "      <td>0</td>\n",
       "      <td>35.0</td>\n",
       "      <td>103.0</td>\n",
       "      <td>-84.0</td>\n",
       "      <td>221.0</td>\n",
       "      <td>3</td>\n",
       "      <td>4</td>\n",
       "      <td>2</td>\n",
       "      <td>2</td>\n",
       "      <td>-52.0</td>\n",
       "      <td>2874</td>\n",
       "      <td>1</td>\n",
       "      <td>1796</td>\n",
       "      <td>0</td>\n",
       "      <td>51</td>\n",
       "      <td>0</td>\n",
       "    </tr>\n",
       "    <tr>\n",
       "      <th>1</th>\n",
       "      <td>1430220345</td>\n",
       "      <td>0</td>\n",
       "      <td>42</td>\n",
       "      <td>4</td>\n",
       "      <td>1188</td>\n",
       "      <td>1033</td>\n",
       "      <td>9</td>\n",
       "      <td>0</td>\n",
       "      <td>1</td>\n",
       "      <td>12</td>\n",
       "      <td>49</td>\n",
       "      <td>4</td>\n",
       "      <td>1596</td>\n",
       "      <td>993</td>\n",
       "      <td>10</td>\n",
       "      <td>0</td>\n",
       "      <td>1</td>\n",
       "      <td>7</td>\n",
       "      <td>67</td>\n",
       "      <td>4</td>\n",
       "      <td>1506</td>\n",
       "      <td>1502</td>\n",
       "      <td>18</td>\n",
       "      <td>1</td>\n",
       "      <td>0</td>\n",
       "      <td>7</td>\n",
       "      <td>37</td>\n",
       "      <td>3</td>\n",
       "      <td>669</td>\n",
       "      <td>631</td>\n",
       "      <td>7</td>\n",
       "      <td>0</td>\n",
       "      <td>0</td>\n",
       "      <td>7</td>\n",
       "      <td>26</td>\n",
       "      <td>2</td>\n",
       "      <td>415</td>\n",
       "      <td>539</td>\n",
       "      <td>1</td>\n",
       "      <td>0</td>\n",
       "      <td>0</td>\n",
       "      <td>5</td>\n",
       "      <td>39</td>\n",
       "      <td>5</td>\n",
       "      <td>1960</td>\n",
       "      <td>1384</td>\n",
       "      <td>16</td>\n",
       "      <td>0</td>\n",
       "      <td>0</td>\n",
       "      <td>8</td>\n",
       "      <td>88</td>\n",
       "      <td>3</td>\n",
       "      <td>640</td>\n",
       "      <td>566</td>\n",
       "      <td>1</td>\n",
       "      <td>0</td>\n",
       "      <td>1</td>\n",
       "      <td>5</td>\n",
       "      <td>79</td>\n",
       "      <td>3</td>\n",
       "      <td>720</td>\n",
       "      <td>1350</td>\n",
       "      <td>2</td>\n",
       "      <td>2</td>\n",
       "      <td>0</td>\n",
       "      <td>12</td>\n",
       "      <td>7</td>\n",
       "      <td>2</td>\n",
       "      <td>440</td>\n",
       "      <td>583</td>\n",
       "      <td>0</td>\n",
       "      <td>0</td>\n",
       "      <td>0</td>\n",
       "      <td>7</td>\n",
       "      <td>12</td>\n",
       "      <td>4</td>\n",
       "      <td>1470</td>\n",
       "      <td>1622</td>\n",
       "      <td>24</td>\n",
       "      <td>0</td>\n",
       "      <td>0</td>\n",
       "      <td>9</td>\n",
       "      <td>54.0</td>\n",
       "      <td>1.0</td>\n",
       "      <td>7.0</td>\n",
       "      <td>NaN</td>\n",
       "      <td>173.0</td>\n",
       "      <td>-80.0</td>\n",
       "      <td>NaN</td>\n",
       "      <td>2</td>\n",
       "      <td>0</td>\n",
       "      <td>2</td>\n",
       "      <td>0</td>\n",
       "      <td>-20.0</td>\n",
       "      <td>149.0</td>\n",
       "      <td>-84.0</td>\n",
       "      <td>195.0</td>\n",
       "      <td>5</td>\n",
       "      <td>4</td>\n",
       "      <td>3</td>\n",
       "      <td>1</td>\n",
       "      <td>-5.0</td>\n",
       "      <td>2463</td>\n",
       "      <td>1</td>\n",
       "      <td>1974</td>\n",
       "      <td>0</td>\n",
       "      <td>63</td>\n",
       "      <td>1</td>\n",
       "    </tr>\n",
       "    <tr>\n",
       "      <th>2</th>\n",
       "      <td>1430227081</td>\n",
       "      <td>7</td>\n",
       "      <td>33</td>\n",
       "      <td>4</td>\n",
       "      <td>1319</td>\n",
       "      <td>1270</td>\n",
       "      <td>22</td>\n",
       "      <td>0</td>\n",
       "      <td>0</td>\n",
       "      <td>12</td>\n",
       "      <td>98</td>\n",
       "      <td>3</td>\n",
       "      <td>1314</td>\n",
       "      <td>775</td>\n",
       "      <td>6</td>\n",
       "      <td>0</td>\n",
       "      <td>0</td>\n",
       "      <td>6</td>\n",
       "      <td>20</td>\n",
       "      <td>3</td>\n",
       "      <td>1297</td>\n",
       "      <td>909</td>\n",
       "      <td>0</td>\n",
       "      <td>1</td>\n",
       "      <td>0</td>\n",
       "      <td>6</td>\n",
       "      <td>27</td>\n",
       "      <td>5</td>\n",
       "      <td>2360</td>\n",
       "      <td>2096</td>\n",
       "      <td>26</td>\n",
       "      <td>1</td>\n",
       "      <td>1</td>\n",
       "      <td>6</td>\n",
       "      <td>4</td>\n",
       "      <td>3</td>\n",
       "      <td>1395</td>\n",
       "      <td>1627</td>\n",
       "      <td>27</td>\n",
       "      <td>0</td>\n",
       "      <td>0</td>\n",
       "      <td>9</td>\n",
       "      <td>22</td>\n",
       "      <td>5</td>\n",
       "      <td>2305</td>\n",
       "      <td>2028</td>\n",
       "      <td>19</td>\n",
       "      <td>1</td>\n",
       "      <td>1</td>\n",
       "      <td>10</td>\n",
       "      <td>66</td>\n",
       "      <td>3</td>\n",
       "      <td>1024</td>\n",
       "      <td>959</td>\n",
       "      <td>19</td>\n",
       "      <td>0</td>\n",
       "      <td>1</td>\n",
       "      <td>10</td>\n",
       "      <td>86</td>\n",
       "      <td>3</td>\n",
       "      <td>755</td>\n",
       "      <td>620</td>\n",
       "      <td>3</td>\n",
       "      <td>0</td>\n",
       "      <td>0</td>\n",
       "      <td>8</td>\n",
       "      <td>29</td>\n",
       "      <td>4</td>\n",
       "      <td>1319</td>\n",
       "      <td>667</td>\n",
       "      <td>4</td>\n",
       "      <td>0</td>\n",
       "      <td>0</td>\n",
       "      <td>7</td>\n",
       "      <td>80</td>\n",
       "      <td>3</td>\n",
       "      <td>1350</td>\n",
       "      <td>1512</td>\n",
       "      <td>25</td>\n",
       "      <td>0</td>\n",
       "      <td>0</td>\n",
       "      <td>7</td>\n",
       "      <td>224.0</td>\n",
       "      <td>0.0</td>\n",
       "      <td>3.0</td>\n",
       "      <td>NaN</td>\n",
       "      <td>63.0</td>\n",
       "      <td>-82.0</td>\n",
       "      <td>NaN</td>\n",
       "      <td>2</td>\n",
       "      <td>5</td>\n",
       "      <td>2</td>\n",
       "      <td>1</td>\n",
       "      <td>-39.0</td>\n",
       "      <td>45.0</td>\n",
       "      <td>-77.0</td>\n",
       "      <td>221.0</td>\n",
       "      <td>3</td>\n",
       "      <td>4</td>\n",
       "      <td>3</td>\n",
       "      <td>1</td>\n",
       "      <td>13.0</td>\n",
       "      <td>2130</td>\n",
       "      <td>0</td>\n",
       "      <td>0</td>\n",
       "      <td>1830</td>\n",
       "      <td>0</td>\n",
       "      <td>63</td>\n",
       "    </tr>\n",
       "    <tr>\n",
       "      <th>3</th>\n",
       "      <td>1430263531</td>\n",
       "      <td>1</td>\n",
       "      <td>29</td>\n",
       "      <td>4</td>\n",
       "      <td>1779</td>\n",
       "      <td>1056</td>\n",
       "      <td>14</td>\n",
       "      <td>0</td>\n",
       "      <td>0</td>\n",
       "      <td>5</td>\n",
       "      <td>30</td>\n",
       "      <td>2</td>\n",
       "      <td>539</td>\n",
       "      <td>539</td>\n",
       "      <td>1</td>\n",
       "      <td>0</td>\n",
       "      <td>0</td>\n",
       "      <td>6</td>\n",
       "      <td>75</td>\n",
       "      <td>5</td>\n",
       "      <td>2037</td>\n",
       "      <td>1139</td>\n",
       "      <td>15</td>\n",
       "      <td>0</td>\n",
       "      <td>0</td>\n",
       "      <td>6</td>\n",
       "      <td>37</td>\n",
       "      <td>2</td>\n",
       "      <td>591</td>\n",
       "      <td>499</td>\n",
       "      <td>0</td>\n",
       "      <td>0</td>\n",
       "      <td>0</td>\n",
       "      <td>6</td>\n",
       "      <td>41</td>\n",
       "      <td>3</td>\n",
       "      <td>712</td>\n",
       "      <td>1075</td>\n",
       "      <td>12</td>\n",
       "      <td>0</td>\n",
       "      <td>0</td>\n",
       "      <td>6</td>\n",
       "      <td>96</td>\n",
       "      <td>5</td>\n",
       "      <td>1878</td>\n",
       "      <td>1174</td>\n",
       "      <td>17</td>\n",
       "      <td>0</td>\n",
       "      <td>0</td>\n",
       "      <td>6</td>\n",
       "      <td>48</td>\n",
       "      <td>3</td>\n",
       "      <td>732</td>\n",
       "      <td>1468</td>\n",
       "      <td>22</td>\n",
       "      <td>0</td>\n",
       "      <td>0</td>\n",
       "      <td>10</td>\n",
       "      <td>15</td>\n",
       "      <td>4</td>\n",
       "      <td>1681</td>\n",
       "      <td>1051</td>\n",
       "      <td>11</td>\n",
       "      <td>0</td>\n",
       "      <td>0</td>\n",
       "      <td>7</td>\n",
       "      <td>102</td>\n",
       "      <td>2</td>\n",
       "      <td>674</td>\n",
       "      <td>537</td>\n",
       "      <td>1</td>\n",
       "      <td>0</td>\n",
       "      <td>0</td>\n",
       "      <td>7</td>\n",
       "      <td>20</td>\n",
       "      <td>2</td>\n",
       "      <td>510</td>\n",
       "      <td>499</td>\n",
       "      <td>0</td>\n",
       "      <td>0</td>\n",
       "      <td>0</td>\n",
       "      <td>7</td>\n",
       "      <td>NaN</td>\n",
       "      <td>NaN</td>\n",
       "      <td>NaN</td>\n",
       "      <td>NaN</td>\n",
       "      <td>208.0</td>\n",
       "      <td>-75.0</td>\n",
       "      <td>NaN</td>\n",
       "      <td>0</td>\n",
       "      <td>3</td>\n",
       "      <td>2</td>\n",
       "      <td>0</td>\n",
       "      <td>-30.0</td>\n",
       "      <td>124.0</td>\n",
       "      <td>-80.0</td>\n",
       "      <td>184.0</td>\n",
       "      <td>0</td>\n",
       "      <td>4</td>\n",
       "      <td>2</td>\n",
       "      <td>0</td>\n",
       "      <td>27.0</td>\n",
       "      <td>1459</td>\n",
       "      <td>0</td>\n",
       "      <td>1920</td>\n",
       "      <td>2047</td>\n",
       "      <td>50</td>\n",
       "      <td>63</td>\n",
       "    </tr>\n",
       "    <tr>\n",
       "      <th>4</th>\n",
       "      <td>1430282290</td>\n",
       "      <td>7</td>\n",
       "      <td>13</td>\n",
       "      <td>4</td>\n",
       "      <td>1431</td>\n",
       "      <td>1090</td>\n",
       "      <td>8</td>\n",
       "      <td>1</td>\n",
       "      <td>0</td>\n",
       "      <td>8</td>\n",
       "      <td>27</td>\n",
       "      <td>2</td>\n",
       "      <td>629</td>\n",
       "      <td>552</td>\n",
       "      <td>0</td>\n",
       "      <td>0</td>\n",
       "      <td>1</td>\n",
       "      <td>7</td>\n",
       "      <td>30</td>\n",
       "      <td>3</td>\n",
       "      <td>884</td>\n",
       "      <td>927</td>\n",
       "      <td>0</td>\n",
       "      <td>1</td>\n",
       "      <td>0</td>\n",
       "      <td>8</td>\n",
       "      <td>72</td>\n",
       "      <td>3</td>\n",
       "      <td>925</td>\n",
       "      <td>1439</td>\n",
       "      <td>16</td>\n",
       "      <td>1</td>\n",
       "      <td>0</td>\n",
       "      <td>11</td>\n",
       "      <td>93</td>\n",
       "      <td>4</td>\n",
       "      <td>1482</td>\n",
       "      <td>880</td>\n",
       "      <td>7</td>\n",
       "      <td>0</td>\n",
       "      <td>0</td>\n",
       "      <td>8</td>\n",
       "      <td>26</td>\n",
       "      <td>3</td>\n",
       "      <td>704</td>\n",
       "      <td>586</td>\n",
       "      <td>1</td>\n",
       "      <td>0</td>\n",
       "      <td>2</td>\n",
       "      <td>9</td>\n",
       "      <td>69</td>\n",
       "      <td>3</td>\n",
       "      <td>1169</td>\n",
       "      <td>1665</td>\n",
       "      <td>20</td>\n",
       "      <td>1</td>\n",
       "      <td>0</td>\n",
       "      <td>7</td>\n",
       "      <td>22</td>\n",
       "      <td>3</td>\n",
       "      <td>1055</td>\n",
       "      <td>638</td>\n",
       "      <td>1</td>\n",
       "      <td>0</td>\n",
       "      <td>0</td>\n",
       "      <td>9</td>\n",
       "      <td>25</td>\n",
       "      <td>5</td>\n",
       "      <td>1815</td>\n",
       "      <td>1275</td>\n",
       "      <td>18</td>\n",
       "      <td>0</td>\n",
       "      <td>0</td>\n",
       "      <td>8</td>\n",
       "      <td>8</td>\n",
       "      <td>4</td>\n",
       "      <td>1119</td>\n",
       "      <td>904</td>\n",
       "      <td>6</td>\n",
       "      <td>0</td>\n",
       "      <td>1</td>\n",
       "      <td>7</td>\n",
       "      <td>-21.0</td>\n",
       "      <td>1.0</td>\n",
       "      <td>6.0</td>\n",
       "      <td>NaN</td>\n",
       "      <td>166.0</td>\n",
       "      <td>-81.0</td>\n",
       "      <td>181.0</td>\n",
       "      <td>1</td>\n",
       "      <td>4</td>\n",
       "      <td>2</td>\n",
       "      <td>0</td>\n",
       "      <td>46.0</td>\n",
       "      <td>182.0</td>\n",
       "      <td>-80.0</td>\n",
       "      <td>225.0</td>\n",
       "      <td>6</td>\n",
       "      <td>3</td>\n",
       "      <td>3</td>\n",
       "      <td>0</td>\n",
       "      <td>-16.0</td>\n",
       "      <td>2449</td>\n",
       "      <td>0</td>\n",
       "      <td>4</td>\n",
       "      <td>1974</td>\n",
       "      <td>3</td>\n",
       "      <td>63</td>\n",
       "    </tr>\n",
       "  </tbody>\n",
       "</table>\n",
       "</div>"
      ],
      "text/plain": [
       "          start_time  lobby_type  r1_hero  r1_level  r1_xp  r1_gold  r1_lh  \\\n",
       "match_id                                                                     \n",
       "0         1430198770           7       11         5   2098     1489     20   \n",
       "1         1430220345           0       42         4   1188     1033      9   \n",
       "2         1430227081           7       33         4   1319     1270     22   \n",
       "3         1430263531           1       29         4   1779     1056     14   \n",
       "4         1430282290           7       13         4   1431     1090      8   \n",
       "\n",
       "          r1_kills  r1_deaths  r1_items  r2_hero  r2_level  r2_xp  r2_gold  \\\n",
       "match_id                                                                     \n",
       "0                0          0         7       67         3    842      991   \n",
       "1                0          1        12       49         4   1596      993   \n",
       "2                0          0        12       98         3   1314      775   \n",
       "3                0          0         5       30         2    539      539   \n",
       "4                1          0         8       27         2    629      552   \n",
       "\n",
       "          r2_lh  r2_kills  r2_deaths  r2_items  r3_hero  r3_level  r3_xp  \\\n",
       "match_id                                                                   \n",
       "0            10         0          0         4       29         5   1909   \n",
       "1            10         0          1         7       67         4   1506   \n",
       "2             6         0          0         6       20         3   1297   \n",
       "3             1         0          0         6       75         5   2037   \n",
       "4             0         0          1         7       30         3    884   \n",
       "\n",
       "          r3_gold  r3_lh  r3_kills  r3_deaths  r3_items  r4_hero  r4_level  \\\n",
       "match_id                                                                     \n",
       "0            1143     10         0          0         8       20         3   \n",
       "1            1502     18         1          0         7       37         3   \n",
       "2             909      0         1          0         6       27         5   \n",
       "3            1139     15         0          0         6       37         2   \n",
       "4             927      0         1          0         8       72         3   \n",
       "\n",
       "          r4_xp  r4_gold  r4_lh  r4_kills  r4_deaths  r4_items  r5_hero  \\\n",
       "match_id                                                                  \n",
       "0           757      741      6         0          0         7      105   \n",
       "1           669      631      7         0          0         7       26   \n",
       "2          2360     2096     26         1          1         6        4   \n",
       "3           591      499      0         0          0         6       41   \n",
       "4           925     1439     16         1          0        11       93   \n",
       "\n",
       "          r5_level  r5_xp  r5_gold  r5_lh  r5_kills  r5_deaths  r5_items  \\\n",
       "match_id                                                                   \n",
       "0                3    732      658      4         0          1        11   \n",
       "1                2    415      539      1         0          0         5   \n",
       "2                3   1395     1627     27         0          0         9   \n",
       "3                3    712     1075     12         0          0         6   \n",
       "4                4   1482      880      7         0          0         8   \n",
       "\n",
       "          d1_hero  d1_level  d1_xp  d1_gold  d1_lh  d1_kills  d1_deaths  \\\n",
       "match_id                                                                  \n",
       "0               4         3   1058      996     12         0          0   \n",
       "1              39         5   1960     1384     16         0          0   \n",
       "2              22         5   2305     2028     19         1          1   \n",
       "3              96         5   1878     1174     17         0          0   \n",
       "4              26         3    704      586      1         0          2   \n",
       "\n",
       "          d1_items  d2_hero  d2_level  d2_xp  d2_gold  d2_lh  d2_kills  \\\n",
       "match_id                                                                 \n",
       "0                6       42         4   1085      986     12         0   \n",
       "1                8       88         3    640      566      1         0   \n",
       "2               10       66         3   1024      959     19         0   \n",
       "3                6       48         3    732     1468     22         0   \n",
       "4                9       69         3   1169     1665     20         1   \n",
       "\n",
       "          d2_deaths  d2_items  d3_hero  d3_level  d3_xp  d3_gold  d3_lh  \\\n",
       "match_id                                                                  \n",
       "0                 0         4       21         5   2052     1536     23   \n",
       "1                 1         5       79         3    720     1350      2   \n",
       "2                 1        10       86         3    755      620      3   \n",
       "3                 0        10       15         4   1681     1051     11   \n",
       "4                 0         7       22         3   1055      638      1   \n",
       "\n",
       "          d3_kills  d3_deaths  d3_items  d4_hero  d4_level  d4_xp  d4_gold  \\\n",
       "match_id                                                                     \n",
       "0                0          0         6       37         3    742      500   \n",
       "1                2          0        12        7         2    440      583   \n",
       "2                0          0         8       29         4   1319      667   \n",
       "3                0          0         7      102         2    674      537   \n",
       "4                0          0         9       25         5   1815     1275   \n",
       "\n",
       "          d4_lh  d4_kills  d4_deaths  d4_items  d5_hero  d5_level  d5_xp  \\\n",
       "match_id                                                                   \n",
       "0             2         0          0         8       84         3    958   \n",
       "1             0         0          0         7       12         4   1470   \n",
       "2             4         0          0         7       80         3   1350   \n",
       "3             1         0          0         7       20         2    510   \n",
       "4            18         0          0         8        8         4   1119   \n",
       "\n",
       "          d5_gold  d5_lh  d5_kills  d5_deaths  d5_items  first_blood_time  \\\n",
       "match_id                                                                    \n",
       "0            1003      3         1          0         9               7.0   \n",
       "1            1622     24         0          0         9              54.0   \n",
       "2            1512     25         0          0         7             224.0   \n",
       "3             499      0         0          0         7               NaN   \n",
       "4             904      6         0          1         7             -21.0   \n",
       "\n",
       "          first_blood_team  first_blood_player1  first_blood_player2  \\\n",
       "match_id                                                               \n",
       "0                      1.0                  9.0                  NaN   \n",
       "1                      1.0                  7.0                  NaN   \n",
       "2                      0.0                  3.0                  NaN   \n",
       "3                      NaN                  NaN                  NaN   \n",
       "4                      1.0                  6.0                  NaN   \n",
       "\n",
       "          radiant_bottle_time  radiant_courier_time  \\\n",
       "match_id                                              \n",
       "0                       134.0                 -80.0   \n",
       "1                       173.0                 -80.0   \n",
       "2                        63.0                 -82.0   \n",
       "3                       208.0                 -75.0   \n",
       "4                       166.0                 -81.0   \n",
       "\n",
       "          radiant_flying_courier_time  radiant_tpscroll_count  \\\n",
       "match_id                                                        \n",
       "0                               244.0                       2   \n",
       "1                                 NaN                       2   \n",
       "2                                 NaN                       2   \n",
       "3                                 NaN                       0   \n",
       "4                               181.0                       1   \n",
       "\n",
       "          radiant_boots_count  radiant_ward_observer_count  \\\n",
       "match_id                                                     \n",
       "0                           2                            2   \n",
       "1                           0                            2   \n",
       "2                           5                            2   \n",
       "3                           3                            2   \n",
       "4                           4                            2   \n",
       "\n",
       "          radiant_ward_sentry_count  radiant_first_ward_time  \\\n",
       "match_id                                                       \n",
       "0                                 0                     35.0   \n",
       "1                                 0                    -20.0   \n",
       "2                                 1                    -39.0   \n",
       "3                                 0                    -30.0   \n",
       "4                                 0                     46.0   \n",
       "\n",
       "          dire_bottle_time  dire_courier_time  dire_flying_courier_time  \\\n",
       "match_id                                                                  \n",
       "0                    103.0              -84.0                     221.0   \n",
       "1                    149.0              -84.0                     195.0   \n",
       "2                     45.0              -77.0                     221.0   \n",
       "3                    124.0              -80.0                     184.0   \n",
       "4                    182.0              -80.0                     225.0   \n",
       "\n",
       "          dire_tpscroll_count  dire_boots_count  dire_ward_observer_count  \\\n",
       "match_id                                                                    \n",
       "0                           3                 4                         2   \n",
       "1                           5                 4                         3   \n",
       "2                           3                 4                         3   \n",
       "3                           0                 4                         2   \n",
       "4                           6                 3                         3   \n",
       "\n",
       "          dire_ward_sentry_count  dire_first_ward_time  duration  radiant_win  \\\n",
       "match_id                                                                        \n",
       "0                              2                 -52.0      2874            1   \n",
       "1                              1                  -5.0      2463            1   \n",
       "2                              1                  13.0      2130            0   \n",
       "3                              0                  27.0      1459            0   \n",
       "4                              0                 -16.0      2449            0   \n",
       "\n",
       "          tower_status_radiant  tower_status_dire  barracks_status_radiant  \\\n",
       "match_id                                                                     \n",
       "0                         1796                  0                       51   \n",
       "1                         1974                  0                       63   \n",
       "2                            0               1830                        0   \n",
       "3                         1920               2047                       50   \n",
       "4                            4               1974                        3   \n",
       "\n",
       "          barracks_status_dire  \n",
       "match_id                        \n",
       "0                            0  \n",
       "1                            1  \n",
       "2                           63  \n",
       "3                           63  \n",
       "4                           63  "
      ]
     },
     "execution_count": 97,
     "metadata": {},
     "output_type": "execute_result"
    }
   ],
   "source": [
    "train_data = pd.read_csv('./data/features.csv', index_col = 'match_id')\n",
    "train_data.head()"
   ]
  },
  {
   "cell_type": "markdown",
   "metadata": {},
   "source": [
    "#### Подход 1: градиентный бустинг \"в лоб\""
   ]
  },
  {
   "cell_type": "markdown",
   "metadata": {},
   "source": [
    "#### 1. Считайте таблицу с признаками из файла features.csv с помощью кода, приведенного выше. Удалите признаки, связанные с итогами матча (они помечены в описании данных как отсутствующие в тестовой выборке)."
   ]
  },
  {
   "cell_type": "code",
   "execution_count": 3,
   "metadata": {},
   "outputs": [],
   "source": [
    "final_feature_names = ['duration', 'radiant_win', 'tower_status_radiant', 'tower_status_dire', 'barracks_status_dire', 'barracks_status_radiant']\n",
    "X_train = train_data.drop(columns = final_feature_names)\n",
    "y_train = train_data['radiant_win']"
   ]
  },
  {
   "cell_type": "markdown",
   "metadata": {},
   "source": [
    "#### 2. Проверьте выборку на наличие пропусков с помощью функции count(), которая для каждого столбца показывает число заполненных значений. Много ли пропусков в данных?"
   ]
  },
  {
   "cell_type": "code",
   "execution_count": 4,
   "metadata": {},
   "outputs": [
    {
     "data": {
      "text/plain": [
       "first_blood_player2            0.452402\n",
       "radiant_flying_courier_time    0.282619\n",
       "dire_flying_courier_time       0.268415\n",
       "first_blood_time               0.201100\n",
       "first_blood_team               0.201100\n",
       "first_blood_player1            0.201100\n",
       "dire_bottle_time               0.166029\n",
       "radiant_bottle_time            0.161380\n",
       "radiant_first_ward_time        0.018883\n",
       "dire_first_ward_time           0.018780\n",
       "radiant_courier_time           0.007117\n",
       "dire_courier_time              0.006953\n",
       "Name: count, dtype: float64"
      ]
     },
     "execution_count": 4,
     "metadata": {},
     "output_type": "execute_result"
    }
   ],
   "source": [
    "n_rows = len(X_train)\n",
    "counts = X_train.describe().T['count']\n",
    "counts_na = counts[counts < n_rows]\n",
    "counts_na.sort_values().apply(lambda count: (n_rows - count) / n_rows)"
   ]
  },
  {
   "cell_type": "markdown",
   "metadata": {},
   "source": [
    " #### Запишите названия признаков, имеющих пропуски, и попробуйте для любых двух из них дать обоснование, почему их значения могут быть пропущены."
   ]
  },
  {
   "cell_type": "markdown",
   "metadata": {},
   "source": [
    "- first_blood_player2 (второй игрок, причастный к событию) - первое убийство может быть совершено одним игроком, это достаточно частое явление и происходит в 45% случаев\n",
    "- radiant_flying_courier_time (время приобретения предмета \"flying_courier\") - в 28% случаев команда не покупает \"flying_courier\" в первые 5 минут игры"
   ]
  },
  {
   "cell_type": "markdown",
   "metadata": {},
   "source": [
    "#### 3. Замените пропуски на нули с помощью функции fillna()"
   ]
  },
  {
   "cell_type": "code",
   "execution_count": 5,
   "metadata": {},
   "outputs": [],
   "source": [
    "X_train.fillna(0, inplace = True)"
   ]
  },
  {
   "cell_type": "markdown",
   "metadata": {},
   "source": [
    "#### 4. Какой столбец содержит целевую переменную? Запишите его название"
   ]
  },
  {
   "cell_type": "code",
   "execution_count": 6,
   "metadata": {},
   "outputs": [
    {
     "data": {
      "text/plain": [
       "'radiant_win'"
      ]
     },
     "execution_count": 6,
     "metadata": {},
     "output_type": "execute_result"
    }
   ],
   "source": [
    "'radiant_win'"
   ]
  },
  {
   "cell_type": "markdown",
   "metadata": {},
   "source": [
    "#### 5. Забудем, что в выборке есть категориальные признаки, и попробуем обучить градиентный бустинг над деревьями на имеющейся матрице \"объекты-признаки\". \n",
    "- Зафиксируйте генератор разбиений для кросс-валидации по 5 блокам (KFold), не забудьте перемешать при этом выборку (shuffle=True) \n",
    "- Оцените качество градиентного бустинга (GradientBoostingClassifier) с помощью данной кросс-валидации, попробуйте при этом разное количество деревьев. "
   ]
  },
  {
   "cell_type": "code",
   "execution_count": 7,
   "metadata": {},
   "outputs": [],
   "source": [
    "def fit(fold, X, y, n_estimators):\n",
    "    start_time = datetime.datetime.now()\n",
    "    \n",
    "    model = GradientBoostingClassifier(n_estimators = n_estimators, random_state = 241)\n",
    "    val_scores = cross_val_score(estimator = model, cv = fold, scoring = \"roc_auc\", X = X, y = y)\n",
    "    \n",
    "    time_elapsed = datetime.datetime.now() - start_time\n",
    "        \n",
    "    mean_score = np.mean(val_scores)\n",
    "    print('n_estimators: {}, mean score: {}, time elapsed: {}, '.format(n_estimators, mean_score, time_elapsed))\n",
    "    return mean_score"
   ]
  },
  {
   "cell_type": "code",
   "execution_count": 8,
   "metadata": {},
   "outputs": [
    {
     "name": "stdout",
     "output_type": "stream",
     "text": [
      "n_estimators: 10, mean score: 0.6643877206345741, time elapsed: 0:00:22.785754, \n",
      "n_estimators: 20, mean score: 0.6828535735340823, time elapsed: 0:00:35.968717, \n",
      "n_estimators: 30, mean score: 0.6894962060591201, time elapsed: 0:00:49.443498, \n",
      "n_estimators: 50, mean score: 0.6974548316948366, time elapsed: 0:01:20.792426, \n",
      "n_estimators: 100, mean score: 0.7063262181631453, time elapsed: 0:02:38.656201, \n",
      "n_estimators: 250, mean score: 0.7156382028679349, time elapsed: 0:06:31.443882, \n"
     ]
    }
   ],
   "source": [
    "scores = {}\n",
    "fold = KFold(n_splits = 5, shuffle = True, random_state = 241)\n",
    "\n",
    "for i in [10, 20, 30, 50, 100, 250]:\n",
    "    scores[i] = fit(fold, X_train, y_train, i)"
   ]
  },
  {
   "cell_type": "code",
   "execution_count": 9,
   "metadata": {},
   "outputs": [
    {
     "data": {
      "image/png": "[encoded data removed]",
      "text/plain": [
       "<Figure size 432x288 with 1 Axes>"
      ]
     },
     "metadata": {
      "needs_background": "light"
     },
     "output_type": "display_data"
    }
   ],
   "source": [
    "pyplot.plot(scores.keys(), scores.values())\n",
    "pyplot.xlabel('n_estimators')\n",
    "pyplot.ylabel('score')\n",
    "pyplot.show()"
   ]
  },
  {
   "cell_type": "markdown",
   "metadata": {},
   "source": [
    "#### Долго ли настраивались классификаторы? "
   ]
  },
  {
   "cell_type": "markdown",
   "metadata": {},
   "source": [
    "Кросс-валидация для градиентного бустинга с 30 деревьями заняла 0:00:49. Показатель метрики качества AUC-ROC в таком случае равен 0.69."
   ]
  },
  {
   "cell_type": "markdown",
   "metadata": {},
   "source": [
    "#### Достигнут ли оптимум на испытанных значениях параметра n_estimators, или же качество, скорее всего, продолжит расти при дальнейшем его увеличении?"
   ]
  },
  {
   "cell_type": "markdown",
   "metadata": {},
   "source": [
    "Увеличение количества деревьев увеличивает показатель метрики AUC-ROC, приближая его к значению 0.72. \n",
    "\n",
    "Для достижения большего качества имеет смысл использовать более 30 деревьев. Для ускорения обучения можно использовать не всю выборку, а ее подмножество — например, половину. \n",
    "Также можно уменьшить глубину деревьев (max_depth)."
   ]
  },
  {
   "cell_type": "markdown",
   "metadata": {},
   "source": [
    "#### Подход 2: логистическая регрессия"
   ]
  },
  {
   "cell_type": "markdown",
   "metadata": {},
   "source": [
    "#### 1. Оцените качество логистической регрессии (sklearn.linear_model.LogisticRegression с L2-регуляризацией) с помощью кросс-валидации по той же схеме, которая использовалась для градиентного бустинга."
   ]
  },
  {
   "cell_type": "code",
   "execution_count": 10,
   "metadata": {},
   "outputs": [],
   "source": [
    "scaler = StandardScaler()\n",
    "X_train_scaled = scaler.fit_transform(X_train)"
   ]
  },
  {
   "cell_type": "code",
   "execution_count": 11,
   "metadata": {},
   "outputs": [],
   "source": [
    "c_param_pows = range(-4, 6)\n",
    "\n",
    "def plot_scores(c_values, scores):\n",
    "    pyplot.plot(c_values, scores)\n",
    "    pyplot.xlabel('log(c)')\n",
    "    pyplot.ylabel('score')\n",
    "    pyplot.show()\n",
    "\n",
    "def fit_log_reg_with_c(fold, X, y, c):\n",
    "    start_time = datetime.datetime.now()\n",
    "    \n",
    "    model = LogisticRegression(C = c, random_state=241)\n",
    "    scores = cross_val_score(model, X, y, cv = fold, scoring = 'roc_auc')\n",
    "    \n",
    "    time_elapsed = datetime.datetime.now() - start_time\n",
    "    \n",
    "    mean_score = np.mean(scores)\n",
    "    print('Hyperparam C: {}, mean score: {}, time elapsed: {}, '.format(c, mean_score, time_elapsed))\n",
    "    return mean_score\n",
    "\n",
    "def fit_log_reg(X, y):\n",
    "    scores = {}\n",
    "    for c in [10.0 ** c for c in c_param_pows]:\n",
    "        scores[c] = fit_log_reg_with_c(fold, X, y, c)       \n",
    "    return scores\n",
    "\n",
    "def print_max_log_reg_score(scores):\n",
    "    max_score_c_param = max(log_reg_scores, key = log_reg_scores.get)\n",
    "    print(\"C: {}, score: {}\".format(max_score_c_param, log_reg_scores[max_score_c_param]))"
   ]
  },
  {
   "cell_type": "code",
   "execution_count": 12,
   "metadata": {},
   "outputs": [
    {
     "name": "stdout",
     "output_type": "stream",
     "text": [
      "Hyperparam C: 0.0001, mean score: 0.7112501143920594, time elapsed: 0:00:04.440228, \n",
      "Hyperparam C: 0.001, mean score: 0.7161802463683579, time elapsed: 0:00:07.964099, \n",
      "Hyperparam C: 0.01, mean score: 0.716341462186996, time elapsed: 0:00:10.222438, \n",
      "Hyperparam C: 0.1, mean score: 0.7163100836533355, time elapsed: 0:00:10.568612, \n",
      "Hyperparam C: 1.0, mean score: 0.716306583645544, time elapsed: 0:00:10.595449, \n",
      "Hyperparam C: 10.0, mean score: 0.7163063399602339, time elapsed: 0:00:10.726892, \n",
      "Hyperparam C: 100.0, mean score: 0.7163062657792336, time elapsed: 0:00:10.610598, \n",
      "Hyperparam C: 1000.0, mean score: 0.7163062636530346, time elapsed: 0:00:10.620741, \n",
      "Hyperparam C: 10000.0, mean score: 0.7163062572998155, time elapsed: 0:00:10.650027, \n",
      "Hyperparam C: 100000.0, mean score: 0.7163062594192566, time elapsed: 0:00:10.677907, \n"
     ]
    }
   ],
   "source": [
    "log_reg_scores = fit_log_reg(X_train_scaled, y_train)"
   ]
  },
  {
   "cell_type": "code",
   "execution_count": 13,
   "metadata": {},
   "outputs": [
    {
     "data": {
      "image/png": "[encoded data removed]",
      "text/plain": [
       "<Figure size 432x288 with 1 Axes>"
      ]
     },
     "metadata": {
      "needs_background": "light"
     },
     "output_type": "display_data"
    }
   ],
   "source": [
    "plot_scores(c_param_pows, log_reg_scores.values())"
   ]
  },
  {
   "cell_type": "markdown",
   "metadata": {},
   "source": [
    "#### Подберите при этом лучший параметр регуляризации (C). Какое наилучшее качество у вас получилось?"
   ]
  },
  {
   "cell_type": "code",
   "execution_count": 14,
   "metadata": {},
   "outputs": [
    {
     "name": "stdout",
     "output_type": "stream",
     "text": [
      "C: 0.01, score: 0.716341462186996\n"
     ]
    }
   ],
   "source": [
    "print_max_log_reg_score(log_reg_scores)"
   ]
  },
  {
   "cell_type": "markdown",
   "metadata": {},
   "source": [
    "#### Как оно соотносится с качеством градиентного бустинга? Чем вы можете объяснить эту разницу? Быстрее ли работает логистическая регрессия по сравнению с градиентным бустингом?"
   ]
  },
  {
   "cell_type": "markdown",
   "metadata": {},
   "source": [
    "Наилучшее значение показателя AUC-ROC достигается при C = 0.01 и равно 0.71. Это сравнимо с градиентным бустингом по 250 деревьям, при этом логистическая регрессия работает заметно быстрее."
   ]
  },
  {
   "cell_type": "markdown",
   "metadata": {},
   "source": [
    "#### 2. Среди признаков в выборке есть категориальные, которые мы использовали как числовые. Уберите их из выборки, и проведите кросс-валидацию для логистической регрессии на новой выборке с подбором лучшего параметра регуляризации. "
   ]
  },
  {
   "cell_type": "code",
   "execution_count": 15,
   "metadata": {},
   "outputs": [
    {
     "name": "stdout",
     "output_type": "stream",
     "text": [
      "Hyperparam C: 0.0001, mean score: 0.7112483906159718, time elapsed: 0:00:03.902487, \n",
      "Hyperparam C: 0.001, mean score: 0.7162355910206267, time elapsed: 0:00:07.026640, \n",
      "Hyperparam C: 0.01, mean score: 0.7164009506527343, time elapsed: 0:00:09.103607, \n",
      "Hyperparam C: 0.1, mean score: 0.7163737844721111, time elapsed: 0:00:09.477721, \n",
      "Hyperparam C: 1.0, mean score: 0.7163707526581122, time elapsed: 0:00:09.484819, \n",
      "Hyperparam C: 10.0, mean score: 0.7163704793048005, time elapsed: 0:00:09.464170, \n",
      "Hyperparam C: 100.0, mean score: 0.7163704962706652, time elapsed: 0:00:09.462752, \n",
      "Hyperparam C: 1000.0, mean score: 0.7163705301659757, time elapsed: 0:00:09.502900, \n",
      "Hyperparam C: 10000.0, mean score: 0.7163705301674705, time elapsed: 0:00:09.528650, \n",
      "Hyperparam C: 100000.0, mean score: 0.7163705280495243, time elapsed: 0:00:09.461455, \n"
     ]
    },
    {
     "data": {
      "image/png": "[encoded data removed]",
      "text/plain": [
       "<Figure size 432x288 with 1 Axes>"
      ]
     },
     "metadata": {
      "needs_background": "light"
     },
     "output_type": "display_data"
    }
   ],
   "source": [
    "def clean_category(X):\n",
    "    X_copy = X.copy()\n",
    "    X_copy.drop('lobby_type', axis = 1, inplace = True)\n",
    "    for i in range(1, 6):\n",
    "        X_copy.drop(['r{}_hero'.format(i), 'd{}_hero'.format(i)], axis = 1, inplace = True)\n",
    "\n",
    "    return X_copy\n",
    "\n",
    "X_train_without_heroes = clean_category(X_train)\n",
    "\n",
    "log_reg_scores = fit_log_reg(scaler.fit_transform(X_train_without_heroes), y_train)\n",
    "plot_scores(c_param_pows, log_reg_scores.values())"
   ]
  },
  {
   "cell_type": "markdown",
   "metadata": {},
   "source": [
    "#### Изменилось ли качество? Чем вы можете это объяснить?"
   ]
  },
  {
   "cell_type": "code",
   "execution_count": 16,
   "metadata": {},
   "outputs": [
    {
     "name": "stdout",
     "output_type": "stream",
     "text": [
      "C: 0.01, score: 0.7164009506527343\n"
     ]
    }
   ],
   "source": [
    "print_max_log_reg_score(log_reg_scores)"
   ]
  },
  {
   "cell_type": "markdown",
   "metadata": {},
   "source": [
    "Удаление категориальных признаков не повлияло на качество предсказания. \n",
    "Наилучшее значение показателя AUC-ROC так же достигается при C = 0.01 и равно 0.71. \n",
    "В предыдущей модели эти признаки никак не влияли на результат предсказания, модель смогла распознать этот шум."
   ]
  },
  {
   "cell_type": "markdown",
   "metadata": {},
   "source": [
    "#### 3.  Выясните из данных, сколько различных идентификаторов героев существует в данной игре."
   ]
  },
  {
   "cell_type": "code",
   "execution_count": 17,
   "metadata": {},
   "outputs": [],
   "source": [
    "def uniq_heroes_id(X):\n",
    "    hero_series = []\n",
    "    for i in range(1, 6):\n",
    "        hero_series.append(X['r{}_hero'.format(i)])\n",
    "        hero_series.append(X['d{}_hero'.format(i)])\n",
    "        \n",
    "    return pd.concat(hero_series).unique()"
   ]
  },
  {
   "cell_type": "code",
   "execution_count": 18,
   "metadata": {},
   "outputs": [
    {
     "data": {
      "text/plain": [
       "'Количество героев(обучающая выборка): 108'"
      ]
     },
     "execution_count": 18,
     "metadata": {},
     "output_type": "execute_result"
    }
   ],
   "source": [
    "\"Количество героев(обучающая выборка): {}\".format(len(uniq_heroes_id(X_train)))"
   ]
  },
  {
   "cell_type": "code",
   "execution_count": 104,
   "metadata": {},
   "outputs": [
    {
     "data": {
      "text/plain": [
       "'Количество героев(словарь героев): 112'"
      ]
     },
     "execution_count": 104,
     "metadata": {},
     "output_type": "execute_result"
    }
   ],
   "source": [
    "heroes = pd.read_csv('./data/dictionaries/heroes.csv')\n",
    "\"Количество героев(словарь героев): {}\".format(len(heroes))"
   ]
  },
  {
   "cell_type": "code",
   "execution_count": 20,
   "metadata": {},
   "outputs": [
    {
     "data": {
      "text/plain": [
       "'В игре минимум 112 героев'"
      ]
     },
     "execution_count": 20,
     "metadata": {},
     "output_type": "execute_result"
    }
   ],
   "source": [
    "\"В игре минимум 112 героев\""
   ]
  },
  {
   "cell_type": "markdown",
   "metadata": {},
   "source": [
    "#### 4. Воспользуемся подходом \"мешок слов\" для кодирования информации о героях. Сформируем N признаков, при этом i-й будет равен нулю, если i-й герой не участвовал в матче; единице, если i-й герой играл за команду Radiant; минус единице, если i-й герой играл за команду Dire."
   ]
  },
  {
   "cell_type": "code",
   "execution_count": 21,
   "metadata": {},
   "outputs": [],
   "source": [
    "def hero_bag(X, heroes):\n",
    "    X_pick = np.zeros((X.shape[0], len(heroes)))\n",
    "    for i, match_id in enumerate(X.index):\n",
    "        for p in range(5):\n",
    "            X_pick[i, X.ix[match_id, 'r%d_hero' % (p+1)]-1] = 1\n",
    "            X_pick[i, X.ix[match_id, 'd%d_hero' % (p+1)]-1] = -1\n",
    "\n",
    "    return pd.DataFrame(X_pick, index=X.index)"
   ]
  },
  {
   "cell_type": "markdown",
   "metadata": {},
   "source": [
    "#### 5. Проведите кросс-валидацию для логистической регрессии на новой выборке с подбором лучшего параметра регуляризации. "
   ]
  },
  {
   "cell_type": "code",
   "execution_count": 22,
   "metadata": {},
   "outputs": [],
   "source": [
    "heroes_bag = hero_bag(X_train, heroes)"
   ]
  },
  {
   "cell_type": "code",
   "execution_count": 23,
   "metadata": {},
   "outputs": [],
   "source": [
    "X_train_with_heroes_bag = pd.concat([X_train_without_heroes, heroes_bag], axis = 1)"
   ]
  },
  {
   "cell_type": "code",
   "execution_count": 24,
   "metadata": {},
   "outputs": [
    {
     "name": "stdout",
     "output_type": "stream",
     "text": [
      "Hyperparam C: 0.0001, mean score: 0.7428391165802382, time elapsed: 0:00:08.733345, \n",
      "Hyperparam C: 0.001, mean score: 0.751668830891463, time elapsed: 0:00:14.261344, \n",
      "Hyperparam C: 0.01, mean score: 0.7519704890317176, time elapsed: 0:00:19.309589, \n",
      "Hyperparam C: 0.1, mean score: 0.7519246209167468, time elapsed: 0:00:20.173174, \n",
      "Hyperparam C: 1.0, mean score: 0.7519175479357812, time elapsed: 0:00:20.801271, \n",
      "Hyperparam C: 10.0, mean score: 0.7519168780227994, time elapsed: 0:00:20.849652, \n",
      "Hyperparam C: 100.0, mean score: 0.7519168758411852, time elapsed: 0:00:20.712518, \n",
      "Hyperparam C: 1000.0, mean score: 0.7519168694835366, time elapsed: 0:00:20.712911, \n",
      "Hyperparam C: 10000.0, mean score: 0.7519168694859212, time elapsed: 0:00:20.912886, \n",
      "Hyperparam C: 100000.0, mean score: 0.7519168694838319, time elapsed: 0:00:21.114570, \n"
     ]
    },
    {
     "data": {
      "image/png": "[encoded data removed]",
      "text/plain": [
       "<Figure size 432x288 with 1 Axes>"
      ]
     },
     "metadata": {
      "needs_background": "light"
     },
     "output_type": "display_data"
    }
   ],
   "source": [
    "log_reg_scores = fit_log_reg(scaler.fit_transform(X_train_with_heroes_bag), y_train)\n",
    "plot_scores(c_param_pows, log_reg_scores.values())"
   ]
  },
  {
   "cell_type": "markdown",
   "metadata": {},
   "source": [
    "#### Какое получилось качество? Улучшилось ли оно? Чем вы можете это объяснить?"
   ]
  },
  {
   "cell_type": "code",
   "execution_count": 25,
   "metadata": {},
   "outputs": [
    {
     "name": "stdout",
     "output_type": "stream",
     "text": [
      "C: 0.01, score: 0.7519704890317176\n"
     ]
    }
   ],
   "source": [
    "print_max_log_reg_score(log_reg_scores)"
   ]
  },
  {
   "cell_type": "markdown",
   "metadata": {},
   "source": [
    "После добавления \"мешка слов\" по героям качество улучшилось. \n",
    "Наилучшее значение показателя AUC-ROC достигается при C = 0.01 и равно 0.75. \n",
    "Это объясняется тем, что вместо отсутствия данных о героях или случайного шума мы имеем осмысленную разреженную матрицу для построения предсказания."
   ]
  },
  {
   "cell_type": "markdown",
   "metadata": {},
   "source": [
    "#### 6. Постройте предсказания вероятностей победы команды Radiant для тестовой выборки с помощью лучшей из изученных моделей (лучшей с точки зрения AUC-ROC на кросс-валидации). Убедитесь, что предсказанные вероятности адекватные — находятся на отрезке [0, 1], не совпадают между собой (т.е. что модель не получилась константной)."
   ]
  },
  {
   "cell_type": "code",
   "execution_count": 94,
   "metadata": {},
   "outputs": [
    {
     "data": {
      "text/plain": [
       "LogisticRegression(C=0.01, class_weight=None, dual=False, fit_intercept=True,\n",
       "          intercept_scaling=1, max_iter=100, multi_class='warn',\n",
       "          n_jobs=None, penalty='l2', random_state=241, solver='warn',\n",
       "          tol=0.0001, verbose=0, warm_start=False)"
      ]
     },
     "execution_count": 94,
     "metadata": {},
     "output_type": "execute_result"
    }
   ],
   "source": [
    "model = LogisticRegression(C = 0.01, random_state = 241)\n",
    "model.fit(scaler.fit_transform(X_train_with_heroes_bag), y_train)"
   ]
  },
  {
   "cell_type": "code",
   "execution_count": 95,
   "metadata": {},
   "outputs": [],
   "source": [
    "test_data = pd.read_csv('./data/features_test.csv', index_col = 'match_id')\n",
    "test_data.fillna(0, inplace = True)\n",
    "test_heroes_bag = hero_bag(test_data, heroes)\n",
    "test_data_cleaned = clean_category(test_data)\n",
    "\n",
    "scaler = StandardScaler()\n",
    "X_test = scaler.fit_transform(pd.concat([test_data_cleaned, test_heroes_bag], axis = 1))"
   ]
  },
  {
   "cell_type": "code",
   "execution_count": 98,
   "metadata": {},
   "outputs": [
    {
     "data": {
      "text/html": [
       "<div>\n",
       "<style scoped>\n",
       "    .dataframe tbody tr th:only-of-type {\n",
       "        vertical-align: middle;\n",
       "    }\n",
       "\n",
       "    .dataframe tbody tr th {\n",
       "        vertical-align: top;\n",
       "    }\n",
       "\n",
       "    .dataframe thead th {\n",
       "        text-align: right;\n",
       "    }\n",
       "</style>\n",
       "<table border=\"1\" class=\"dataframe\">\n",
       "  <thead>\n",
       "    <tr style=\"text-align: right;\">\n",
       "      <th></th>\n",
       "      <th>radiant_win</th>\n",
       "    </tr>\n",
       "    <tr>\n",
       "      <th>match_id</th>\n",
       "      <th></th>\n",
       "    </tr>\n",
       "  </thead>\n",
       "  <tbody>\n",
       "    <tr>\n",
       "      <th>6</th>\n",
       "      <td>0.822689</td>\n",
       "    </tr>\n",
       "    <tr>\n",
       "      <th>7</th>\n",
       "      <td>0.756018</td>\n",
       "    </tr>\n",
       "    <tr>\n",
       "      <th>10</th>\n",
       "      <td>0.188658</td>\n",
       "    </tr>\n",
       "    <tr>\n",
       "      <th>13</th>\n",
       "      <td>0.856746</td>\n",
       "    </tr>\n",
       "    <tr>\n",
       "      <th>16</th>\n",
       "      <td>0.241456</td>\n",
       "    </tr>\n",
       "  </tbody>\n",
       "</table>\n",
       "</div>"
      ],
      "text/plain": [
       "          radiant_win\n",
       "match_id             \n",
       "6            0.822689\n",
       "7            0.756018\n",
       "10           0.188658\n",
       "13           0.856746\n",
       "16           0.241456"
      ]
     },
     "execution_count": 98,
     "metadata": {},
     "output_type": "execute_result"
    }
   ],
   "source": [
    "y_test = model.predict_proba(X_test)[:, 1]\n",
    "result = pd.DataFrame({'radiant_win': y_test}, index = test_data.index)\n",
    "result.index.name = 'match_id'\n",
    "\n",
    "result.head()"
   ]
  },
  {
   "cell_type": "markdown",
   "metadata": {},
   "source": [
    "#### Какое минимальное и максимальное значение прогноза на тестовой выборке получилось у лучшего из алгоритмов?"
   ]
  },
  {
   "cell_type": "code",
   "execution_count": 103,
   "metadata": {},
   "outputs": [
    {
     "data": {
      "text/plain": [
       "'min score: 0.008705900769228144, max score: 0.996328715925428'"
      ]
     },
     "execution_count": 103,
     "metadata": {},
     "output_type": "execute_result"
    }
   ],
   "source": [
    "'min score: {}, max score: {}'.format(result['radiant_win'].min(), result['radiant_win'].max())"
   ]
  },
  {
   "cell_type": "code",
   "execution_count": 93,
   "metadata": {},
   "outputs": [],
   "source": [
    "result.to_csv('./data/kaggle-final-result.csv')"
   ]
  },
  {
   "cell_type": "markdown",
   "metadata": {},
   "source": [
    "Полученная модель получила оценку 0.68478 на Kaggle и позволила занять 2-е место, по состоянию на Apr 13 2019, 14:00"
   ]
  },
  {
   "cell_type": "code",
   "execution_count": null,
   "metadata": {},
   "outputs": [],
   "source": []
  }
 ],
 "metadata": {
  "kernelspec": {
   "display_name": "Python 3",
   "language": "python",
   "name": "python3"
  },
  "language_info": {
   "codemirror_mode": {
    "name": "ipython",
    "version": 3
   },
   "file_extension": ".py",
   "mimetype": "text/x-python",
   "name": "python",
   "nbconvert_exporter": "python",
   "pygments_lexer": "ipython3",
   "version": "3.7.3"
  }
 },
 "nbformat": 4,
 "nbformat_minor": 2
}
